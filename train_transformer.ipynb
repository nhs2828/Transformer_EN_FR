{
  "nbformat": 4,
  "nbformat_minor": 0,
  "metadata": {
    "colab": {
      "provenance": [],
      "gpuType": "T4"
    },
    "kernelspec": {
      "name": "python3",
      "display_name": "Python 3"
    },
    "language_info": {
      "name": "python"
    },
    "accelerator": "GPU"
  },
  "cells": [
    {
      "cell_type": "markdown",
      "source": [
        "## Load the libraries and dependencies"
      ],
      "metadata": {
        "id": "LVJlrxehxGYT"
      }
    },
    {
      "cell_type": "code",
      "source": [
        "from prepare_data import *\n",
        "from model import *\n",
        "from sklearn.model_selection import train_test_split\n",
        "from pathlib import Path\n",
        "import matplotlib.pyplot as plt"
      ],
      "metadata": {
        "id": "ofhGNRcCksgJ"
      },
      "execution_count": 53,
      "outputs": []
    },
    {
      "cell_type": "code",
      "source": [
        "MAX_LEN = 20\n",
        "BATCH_SIZE = 64\n",
        "\n",
        "ds_en_train, ds_en_test, ds_fr_train, ds_fr_test = train_test_split(ds_en, ds_fr, test_size=0.2, shuffle=True)\n",
        "ds_train = en_fr_dataset(ds_en_train, ds_fr_train, MAX_LEN, word2id_en, word2id_fr)\n",
        "ds_test = en_fr_dataset(ds_en_test, ds_fr_test, MAX_LEN, word2id_en, word2id_fr)\n",
        "dataloader_train = DataLoader(ds_train, collate_fn=pad_collate_fn, batch_size=BATCH_SIZE)\n",
        "dataloader_test = DataLoader(ds_test, collate_fn=pad_collate_fn, batch_size=BATCH_SIZE)"
      ],
      "metadata": {
        "id": "G4m24gTuluhe"
      },
      "execution_count": 8,
      "outputs": []
    },
    {
      "cell_type": "markdown",
      "source": [
        "## Training"
      ],
      "metadata": {
        "id": "ym2F5KyaxSwz"
      }
    },
    {
      "cell_type": "code",
      "source": [
        "# State to save model\n",
        "class State:\n",
        "    def __init__(self, model, optim):\n",
        "        self.model = model\n",
        "        self.optim = optim\n",
        "        self.epoch = 0\n",
        "        self.loss_train = []\n",
        "        self.loss_test = []\n",
        "\n",
        "savepath = Path('transformer.plt')\n",
        "\n",
        "\n",
        "\n",
        "\n",
        "@torch.no_grad()\n",
        "def eval_model(model, loader, criterion):\n",
        "    model.eval()\n",
        "    eval_loss = 0.\n",
        "    for (x_en, x_de), y in loader:\n",
        "        x_en, x_de, y = x_en.cuda(), x_de.cuda(), y.cuda()\n",
        "        yhat = model(x_en, x_de)\n",
        "        loss = criterion(yhat, y, PAD_IX)\n",
        "        eval_loss += loss.item()\n",
        "    loss_eval = eval_loss / len(loader)\n",
        "    print(f\"Eval loss: {loss_eval}\")\n",
        "    model.train()\n",
        "    return loss_eval"
      ],
      "metadata": {
        "id": "s_4YLj5llx4u"
      },
      "execution_count": 9,
      "outputs": []
    },
    {
      "cell_type": "code",
      "source": [
        "EMD_DIM = 256\n",
        "LR = 0.0001\n",
        "EPOCHS = 10\n",
        "L2 = 1e-6 # regularization\n",
        "NUM_BLOCKS = 2\n",
        "NUM_HEADS = 8\n",
        "MLP_RATIO = 4 # hidden dim = input_dim*MLP_RATIO\n",
        "DROP_OUT_RATE = 0.5\n",
        "\n",
        "if savepath.is_file():\n",
        "    with savepath.open('rb') as fp:\n",
        "        state = torch.load(fp)\n",
        "else:\n",
        "    model = Transformer(vocab_size_in=final_vocab_size_en,\n",
        "                    vocab_size_out=final_vocab_size_fr,\n",
        "                    emb_dim=EMD_DIM,\n",
        "                    hidden_ratio_encoder=MLP_RATIO,\n",
        "                    hidden_ratio_decoder=MLP_RATIO,\n",
        "                    num_heads=NUM_HEADS,\n",
        "                    num_blocks=NUM_BLOCKS,\n",
        "                    max_len=MAX_LEN,\n",
        "                    p_dropOut=DROP_OUT_RATE)\n",
        "\n",
        "    for p in model.parameters():\n",
        "        if p.dim() > 1:\n",
        "            nn.init.xavier_uniform_(p)\n",
        "    optimizer = torch.optim.Adam(params=model.parameters(), lr = LR, weight_decay=L2)\n",
        "    state = State(model, optimizer)"
      ],
      "metadata": {
        "id": "LXjCZr05l1C3"
      },
      "execution_count": 10,
      "outputs": []
    },
    {
      "cell_type": "code",
      "source": [
        "state.model.cuda()\n",
        "state.model.train()\n",
        "criterion = maskedCrossEntropy\n",
        "\n",
        "for epoch in range(state.epoch, EPOCHS):\n",
        "    train_loss = 0.\n",
        "    for (x_en, x_de), y in dataloader_train:\n",
        "        x_en, x_de, y = x_en.cuda(), x_de.cuda(), y.cuda()\n",
        "        state.optim.zero_grad()\n",
        "        yhat = state.model(x_en, x_de)\n",
        "        loss = criterion(yhat, y, PAD_IX)\n",
        "        loss.backward()\n",
        "        state.optim.step()\n",
        "        train_loss += loss.item()\n",
        "    loss_train = train_loss / len(dataloader_train)\n",
        "    print(f\"--- Epoch {epoch} ---\")\n",
        "    print(f\"Train loss: {loss_train}\")\n",
        "    loss_test = eval_model(state.model, dataloader_test, criterion)\n",
        "    # update state\n",
        "    state.loss_train.append(loss_train)\n",
        "    state.loss_test.append(loss_test)\n",
        "    with savepath.open('wb') as fp:\n",
        "        state.epoch = epoch\n",
        "        torch.save(state, fp)"
      ],
      "metadata": {
        "colab": {
          "base_uri": "https://localhost:8080/"
        },
        "id": "dnRiNi59l6wQ",
        "outputId": "efe69424-815a-4fbe-c140-d01705ef3fb1"
      },
      "execution_count": 11,
      "outputs": [
        {
          "output_type": "stream",
          "name": "stdout",
          "text": [
            "--- Epoch 0 ---\n",
            "Train loss: 2.7285039820627537\n",
            "Eval loss: 2.2235518702641266\n",
            "--- Epoch 1 ---\n",
            "Train loss: 1.8951752291422457\n",
            "Eval loss: 1.6285141022157408\n",
            "--- Epoch 2 ---\n",
            "Train loss: 1.3787830807846975\n",
            "Eval loss: 1.2572964709899108\n",
            "--- Epoch 3 ---\n",
            "Train loss: 1.043153294907313\n",
            "Eval loss: 1.0556218523865861\n",
            "--- Epoch 4 ---\n",
            "Train loss: 0.8416541628233374\n",
            "Eval loss: 0.9118202173949596\n",
            "--- Epoch 5 ---\n",
            "Train loss: 0.7071142076765565\n",
            "Eval loss: 0.8666675300005368\n",
            "--- Epoch 6 ---\n",
            "Train loss: 0.6096454744469629\n",
            "Eval loss: 0.8197782292444483\n",
            "--- Epoch 7 ---\n",
            "Train loss: 0.5368331194196118\n",
            "Eval loss: 0.779538746344324\n",
            "--- Epoch 8 ---\n",
            "Train loss: 0.4766829708803734\n",
            "Eval loss: 0.7467444184384354\n",
            "--- Epoch 9 ---\n",
            "Train loss: 0.42573453990836124\n",
            "Eval loss: 0.7299152317931926\n"
          ]
        }
      ]
    },
    {
      "cell_type": "code",
      "source": [
        "plt.plot(state.loss_train, label='train')\n",
        "plt.plot(state.loss_test, label='test')\n",
        "plt.title('Loss during traing')\n",
        "plt.xlabel('Epoch')\n",
        "plt.ylabel('Loss')\n",
        "plt.legend()\n",
        "plt.show()"
      ],
      "metadata": {
        "colab": {
          "base_uri": "https://localhost:8080/",
          "height": 472
        },
        "id": "Ho6_uOX2wP6r",
        "outputId": "bbb9c1b3-9be5-474a-e223-cd62b7292e98"
      },
      "execution_count": 55,
      "outputs": [
        {
          "output_type": "display_data",
          "data": {
            "text/plain": [
              "<Figure size 640x480 with 1 Axes>"
            ],
            "image/png": "[encoded data removed]"
          },
          "metadata": {}
        }
      ]
    },
    {
      "cell_type": "markdown",
      "source": [
        "## Test the translation"
      ],
      "metadata": {
        "id": "uWJBbG3DxCdn"
      }
    },
    {
      "cell_type": "code",
      "source": [
        "@torch.no_grad()\n",
        "def translate(input_sentence, model, length_max = 15, source='en'):\n",
        "    if source == 'en':\n",
        "      # prepare input encoder\n",
        "      input_sentence = ' '.join(input_sentence.strip().split(' ') + ['<eos>']) # add end of sentence\n",
        "      input_encoder = string2code(input_sentence, word2id_en)\n",
        "      input_encoder = F.pad(input_encoder, pad=(0,length_max-len(input_encoder)), mode='constant', value=word2id_en['<pad>']).unsqueeze(0).cuda() # create batch\n",
        "\n",
        "      output = '<bos>'\n",
        "      output_decode = string2code(output, word2id_fr)\n",
        "      model.eval()\n",
        "      while len(output.split(' ')) < length_max:\n",
        "        output_decode = F.pad(output_decode, pad=(0,length_max-len(output_decode)), mode='constant', value=word2id_fr['<pad>']).unsqueeze(0).cuda() # create batch\n",
        "        y_pred = model(input_encoder, output_decode)\n",
        "        # get prediction\n",
        "        id_pred = torch.argmax(torch.softmax(y_pred[0][len(output.split(' ')) - 1], dim=-1)).item()\n",
        "        # concatenate to output\n",
        "        output = output + f' {id2word_fr[id_pred]}'\n",
        "        if id_pred == word2id_fr['<eos>']:\n",
        "          break\n",
        "        output_decode = string2code(output, word2id_fr)\n",
        "      return output"
      ],
      "metadata": {
        "id": "_jiROZaAq1yk"
      },
      "execution_count": 72,
      "outputs": []
    },
    {
      "cell_type": "code",
      "source": [
        "en_sentence = input()"
      ],
      "metadata": {
        "colab": {
          "base_uri": "https://localhost:8080/"
        },
        "id": "8dQSpkb7xkL5",
        "outputId": "e59e95ae-0c87-45a6-8f4f-fcc917d2cef9"
      },
      "execution_count": 81,
      "outputs": [
        {
          "name": "stdout",
          "output_type": "stream",
          "text": [
            "i love eating chocolate\n"
          ]
        }
      ]
    },
    {
      "cell_type": "code",
      "source": [
        "translate(en_sentence, state.model, length_max = 15, source='en')"
      ],
      "metadata": {
        "colab": {
          "base_uri": "https://localhost:8080/",
          "height": 35
        },
        "id": "E8TLrTwlxZCL",
        "outputId": "f5ffdedc-51dd-49ea-dfb8-2a9c68f82e29"
      },
      "execution_count": 82,
      "outputs": [
        {
          "output_type": "execute_result",
          "data": {
            "text/plain": [
              "'<bos> jadore manger du chocolat <eos>'"
            ],
            "application/vnd.google.colaboratory.intrinsic+json": {
              "type": "string"
            }
          },
          "metadata": {},
          "execution_count": 82
        }
      ]
    }
  ]
}